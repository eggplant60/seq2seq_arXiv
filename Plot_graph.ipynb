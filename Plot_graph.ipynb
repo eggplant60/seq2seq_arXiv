{
 "cells": [
  {
   "cell_type": "markdown",
   "metadata": {},
   "source": [
    "# loss, perp をプロット"
   ]
  },
  {
   "cell_type": "code",
   "execution_count": 26,
   "metadata": {
    "collapsed": false
   },
   "outputs": [
    {
     "data": {
      "image/png": "[encoded data removed]",
      "text/plain": [
       "<matplotlib.figure.Figure at 0x7f91978af8d0>"
      ]
     },
     "metadata": {},
     "output_type": "display_data"
    }
   ],
   "source": [
    "%matplotlib inline\n",
    "\n",
    "#coding: utf-8\n",
    "import matplotlib.pyplot as plt\n",
    "import numpy as np\n",
    "import os\n",
    "import json\n",
    "plt.style.use('ggplot') \n",
    "\n",
    "# グラフ\n",
    "def plot_loss_perp(result_dir = 'result/'):\n",
    "    f = open(os.path.join(result_dir, 'log'), 'r')\n",
    "    log = json.load(f)\n",
    "    \n",
    "    iter = [d[\"iteration\"] for d in log]\n",
    "    epoch = [d[\"epoch\"] for d in log]\n",
    "    loss = [d[\"main/loss\"] for d in log]\n",
    "    perp = [d[\"main/perp\"] for d in log]\n",
    "    \n",
    "    plt.scatter(iter, loss, label=\"loss\")\n",
    "    plt.scatter(iter, perp, label=\"perp\")\n",
    "    plt.legend()\n",
    "    plt.ylim([0, 100])\n",
    "    plt.show()\n",
    "    \n",
    "    \n",
    "    \n",
    "plot_loss_perp()\n",
    "\n"
   ]
  },
  {
   "cell_type": "markdown",
   "metadata": {},
   "source": [
    "# bleu, rouge, F値をプロット"
   ]
  },
  {
   "cell_type": "code",
   "execution_count": 28,
   "metadata": {
    "collapsed": false
   },
   "outputs": [
    {
     "data": {
      "image/png": "[encoded data removed]",
      "text/plain": [
       "<matplotlib.figure.Figure at 0x7f91978e5048>"
      ]
     },
     "metadata": {},
     "output_type": "display_data"
    }
   ],
   "source": [
    "def plot_bleu(result_dir = 'result/'):\n",
    "    f = open(os.path.join(result_dir, 'log'), 'r')\n",
    "    log = json.load(f)\n",
    "    \n",
    "    iter = []\n",
    "    bleu = []\n",
    "    rouge = []\n",
    "    f = []\n",
    "    for d in log:\n",
    "        if \"bleu\" in d:\n",
    "            iter.append(d[\"iteration\"])\n",
    "            bleu.append(d[\"bleu\"])\n",
    "            rouge.append(d[\"rouge\"])\n",
    "            f.append(d[\"f\"])\n",
    "    \n",
    "    plt.scatter(iter, bleu, label=\"bleu\")\n",
    "    plt.scatter(iter, rouge, label=\"rouge\")\n",
    "    plt.scatter(iter, f, label=\"f\")\n",
    "    plt.legend()\n",
    "    plt.show()\n",
    "    \n",
    "plot_bleu()"
   ]
  }
 ],
 "metadata": {
  "kernelspec": {
   "display_name": "Python 3",
   "language": "python",
   "name": "python3"
  },
  "language_info": {
   "codemirror_mode": {
    "name": "ipython",
    "version": 3
   },
   "file_extension": ".py",
   "mimetype": "text/x-python",
   "name": "python",
   "nbconvert_exporter": "python",
   "pygments_lexer": "ipython3",
   "version": "3.6.0"
  }
 },
 "nbformat": 4,
 "nbformat_minor": 2
}
