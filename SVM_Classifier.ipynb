{
 "cells": [
  {
   "cell_type": "markdown",
   "metadata": {},
   "source": [
    "# SVM のテスト"
   ]
  },
  {
   "cell_type": "markdown",
   "metadata": {},
   "source": [
    "### データを用意"
   ]
  },
  {
   "cell_type": "code",
   "execution_count": 70,
   "metadata": {
    "collapsed": false
   },
   "outputs": [
    {
     "name": "stdout",
     "output_type": "stream",
     "text": [
      "データセットの数: 1000, 特徴量の次元: 200\n",
      "552\n",
      "{'eess', 'physics', 'cs', 'math', 'hep-ex', 'stat', 'hep-ph', 'q-bio', 'quant-ph', 'astro-ph'}\n",
      "カテゴリの数: 10\n"
     ]
    }
   ],
   "source": [
    "from sklearn.datasets import load_digits\n",
    "import pickle\n",
    "\n",
    "#digits = load_digits()\n",
    "\n",
    "pkl_file = 'result/vector.pkl'\n",
    "cat_file = 'data_test_/test_cat.txt'\n",
    "\n",
    "# pkl file の情報\n",
    "with open(pkl_file, 'rb') as f:\n",
    "    vectors = pickle.load(f)\n",
    "\n",
    "print('データセットの数: {}, 特徴量の次元: {}'.\\\n",
    "      format(vectors.shape[0], vectors.shape[1]))\n",
    "\n",
    "# category file の情報\n",
    "with open(cat_file, 'r') as f:\n",
    "    cats_full = [line.strip()\n",
    "                 for line in f.readlines()[:vectors.shape[0]]]\n",
    "    \n",
    "    cats = [cat.split('.')[0] for cat in cats_full]\n",
    "    print(len([1 for x in cats if x == 'cs']))\n",
    "\n",
    "    print(set(cats))\n",
    "    n_cat = len(set(cats))\n",
    "print('カテゴリの数: {}'.format(n_cat))\n",
    "\n",
    "assert len(vectors) == len(cats)\n",
    "\n",
    "\n",
    "train_v, test_v, train_c, test_c = train_test_split(vectors, cats)"
   ]
  },
  {
   "cell_type": "code",
   "execution_count": null,
   "metadata": {
    "collapsed": true
   },
   "outputs": [],
   "source": [
    "### SVM のグリッドサーチ"
   ]
  },
  {
   "cell_type": "code",
   "execution_count": 72,
   "metadata": {
    "collapsed": false
   },
   "outputs": [
    {
     "name": "stdout",
     "output_type": "stream",
     "text": [
      "C: 1, gamma: 0.01, a: 0.63600\n",
      "C: 1, gamma: 0.001, a: 0.55600\n",
      "C: 1, gamma: 0.0001, a: 0.55200\n",
      "C: 10, gamma: 0.01, a: 0.67600\n",
      "C: 10, gamma: 0.001, a: 0.69600\n",
      "C: 10, gamma: 0.0001, a: 0.56400\n",
      "C: 100, gamma: 0.01, a: 0.67600\n",
      "C: 100, gamma: 0.001, a: 0.60000\n",
      "C: 100, gamma: 0.0001, a: 0.69200\n",
      "C: 1000, gamma: 0.01, a: 0.67600\n",
      "C: 1000, gamma: 0.001, a: 0.57600\n",
      "C: 1000, gamma: 0.0001, a: 0.59600\n"
     ]
    }
   ],
   "source": [
    "from sklearn.multiclass import OneVsRestClassifier\n",
    "from sklearn.svm import SVC\n",
    "from sklearn.cross_validation import train_test_split\n",
    "from sklearn.metrics import accuracy_score\n",
    "#from sklearn.grid_search import GridSearchCV\n",
    "\n",
    "# kernel = 'linear'\n",
    "# Cs = [1, 10, 100, 1000]\n",
    "# for C in Cs:\n",
    "#     est = SVC(C=C, kernel=kernel)\n",
    "#     clf = OneVsRestClassifier(est)\n",
    "#     clf.fit(train_v, train_c)\n",
    "#     pred_c = clf.predict(test_v)\n",
    "#     print('C: {}, a: {:.5f}'.\\\n",
    "#           format(C, accuracy_score(test_c, pred_c)))\n",
    "\n",
    "kernel = 'rbf'\n",
    "Cs = [1, 10, 100, 1000]\n",
    "gammas = [0.01, 0.001, 0.0001]\n",
    "for C in Cs:\n",
    "    for gamma in gammas:\n",
    "        clf = SVC(C=C, kernel=kernel, gamma=gamma)\n",
    "        #clf = OneVsRestClassifier(est)\n",
    "        clf.fit(train_v, train_c)\n",
    "        pred_c = clf.predict(test_v)\n",
    "        print('C: {}, gamma: {}, a: {:.5f}'.\\\n",
    "              format(C, gamma, accuracy_score(test_c, pred_c)))"
   ]
  }
 ],
 "metadata": {
  "kernelspec": {
   "display_name": "Python 3",
   "language": "python",
   "name": "python3"
  },
  "language_info": {
   "codemirror_mode": {
    "name": "ipython",
    "version": 3
   },
   "file_extension": ".py",
   "mimetype": "text/x-python",
   "name": "python",
   "nbconvert_exporter": "python",
   "pygments_lexer": "ipython3",
   "version": "3.6.4"
  }
 },
 "nbformat": 4,
 "nbformat_minor": 2
}
